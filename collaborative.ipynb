{
 "cells": [
  {
   "cell_type": "code",
   "execution_count": 85,
   "metadata": {},
   "outputs": [],
   "source": [
    "import numpy as np\n",
    "import pandas as pd\n",
    "from scipy import sparse\n",
    "import matplotlib.pyplot as plt\n",
    "%matplotlib inline"
   ]
  },
  {
   "cell_type": "code",
   "execution_count": 86,
   "metadata": {},
   "outputs": [
    {
     "data": {
      "text/html": [
       "<div>\n",
       "<style scoped>\n",
       "    .dataframe tbody tr th:only-of-type {\n",
       "        vertical-align: middle;\n",
       "    }\n",
       "\n",
       "    .dataframe tbody tr th {\n",
       "        vertical-align: top;\n",
       "    }\n",
       "\n",
       "    .dataframe thead th {\n",
       "        text-align: right;\n",
       "    }\n",
       "</style>\n",
       "<table border=\"1\" class=\"dataframe\">\n",
       "  <thead>\n",
       "    <tr style=\"text-align: right;\">\n",
       "      <th></th>\n",
       "      <th>user_id</th>\n",
       "      <th>item_id</th>\n",
       "      <th>rating</th>\n",
       "      <th>timestamp</th>\n",
       "    </tr>\n",
       "  </thead>\n",
       "  <tbody>\n",
       "    <tr>\n",
       "      <th>0</th>\n",
       "      <td>196</td>\n",
       "      <td>242</td>\n",
       "      <td>3</td>\n",
       "      <td>881250949</td>\n",
       "    </tr>\n",
       "    <tr>\n",
       "      <th>1</th>\n",
       "      <td>186</td>\n",
       "      <td>302</td>\n",
       "      <td>3</td>\n",
       "      <td>891717742</td>\n",
       "    </tr>\n",
       "    <tr>\n",
       "      <th>2</th>\n",
       "      <td>22</td>\n",
       "      <td>377</td>\n",
       "      <td>1</td>\n",
       "      <td>878887116</td>\n",
       "    </tr>\n",
       "    <tr>\n",
       "      <th>3</th>\n",
       "      <td>244</td>\n",
       "      <td>51</td>\n",
       "      <td>2</td>\n",
       "      <td>880606923</td>\n",
       "    </tr>\n",
       "    <tr>\n",
       "      <th>4</th>\n",
       "      <td>166</td>\n",
       "      <td>346</td>\n",
       "      <td>1</td>\n",
       "      <td>886397596</td>\n",
       "    </tr>\n",
       "  </tbody>\n",
       "</table>\n",
       "</div>"
      ],
      "text/plain": [
       "   user_id  item_id  rating  timestamp\n",
       "0      196      242       3  881250949\n",
       "1      186      302       3  891717742\n",
       "2       22      377       1  878887116\n",
       "3      244       51       2  880606923\n",
       "4      166      346       1  886397596"
      ]
     },
     "execution_count": 86,
     "metadata": {},
     "output_type": "execute_result"
    }
   ],
   "source": [
    "data = pd.read_csv('datasets/ml-100k/u.data', sep='\\t', header=None)\n",
    "\n",
    "data.columns = ['user_id', 'item_id', 'rating', 'timestamp']\n",
    "\n",
    "data.head()"
   ]
  },
  {
   "cell_type": "code",
   "execution_count": 87,
   "metadata": {},
   "outputs": [
    {
     "name": "stdout",
     "output_type": "stream",
     "text": [
      "Rating matrix shape: (943, 1682)\n",
      "Sparsity: 0.0630\n"
     ]
    }
   ],
   "source": [
    "R_df = data.pivot(index='user_id', columns='item_id', values='rating')\n",
    "\n",
    "R_df = R_df.fillna(0)\n",
    "\n",
    "R = sparse.csr_matrix(R_df.values)\n",
    "\n",
    "print(f\"Rating matrix shape: {R.shape}\")\n",
    "print(f\"Sparsity: {R.nnz / (R.shape[0] * R.shape[1]):.4f}\")"
   ]
  },
  {
   "cell_type": "code",
   "execution_count": 88,
   "metadata": {},
   "outputs": [],
   "source": [
    "def init_matrix_factorization(R, n_factors=20, seed=42):\n",
    "    np.random.seed(seed)\n",
    "    n_users, n_items = R.shape\n",
    "    \n",
    "    U = np.random.normal(0, 0.1, (n_users, n_factors))\n",
    "    V = np.random.normal(0, 0.1, (n_items, n_factors))\n",
    "    \n",
    "    return U, V"
   ]
  },
  {
   "cell_type": "code",
   "execution_count": 89,
   "metadata": {},
   "outputs": [],
   "source": [
    "def calculate_rmse(R, U, V):\n",
    "\n",
    "    users, items = R.nonzero()    \n",
    "\n",
    "    predictions = np.sum(U[users] * V[items], axis=1)\n",
    "    \n",
    "    actuals = R[users, items].A.flatten()\n",
    "    \n",
    "    rmse = np.sqrt(np.mean((actuals - predictions) ** 2))\n",
    "    \n",
    "    return rmse"
   ]
  },
  {
   "cell_type": "code",
   "execution_count": 90,
   "metadata": {},
   "outputs": [],
   "source": [
    "def als_matrix_factorization(R, n_factors=20, lambda_reg=0.1, n_iterations=20, verbose=True) -> tuple[np.ndarray, np.ndarray, list[float]]:\n",
    "    U, V = init_matrix_factorization(R, n_factors)\n",
    "    n_users, n_items = R.shape\n",
    "    \n",
    "    I = np.eye(n_factors)\n",
    "    \n",
    "    train_errors = []\n",
    "    \n",
    "    for iteration in range(n_iterations):\n",
    "        for i in range(n_users):\n",
    "            rated_items = R[i].nonzero()[1]\n",
    "            \n",
    "            if len(rated_items) == 0:\n",
    "                continue\n",
    "                \n",
    "            ratings = R[i, rated_items].toarray()[0]\n",
    "            \n",
    "            V_j = V[rated_items, :]\n",
    "            \n",
    "            U[i] = np.linalg.solve(V_j.T @ V_j + lambda_reg * I, V_j.T @ ratings.transpose()).transpose()\n",
    "        \n",
    "        for j in range(n_items):\n",
    "            rating_users = R[:, j].nonzero()[0]\n",
    "            \n",
    "            if len(rating_users) == 0:\n",
    "                continue\n",
    "                \n",
    "            ratings = R[rating_users, j].toarray().flatten()\n",
    "    \n",
    "            U_i = U[rating_users, :]\n",
    "            \n",
    "            V[j] = np.linalg.solve(U_i.T @ U_i + lambda_reg * I, U_i.T @ ratings.transpose()).transpose()\n",
    "        \n",
    "        # Calculate training error\n",
    "        train_rmse = calculate_rmse(R, U, V)\n",
    "        train_errors.append(train_rmse)\n",
    "        \n",
    "        if verbose and (iteration + 1) % 1 == 0:\n",
    "            print(f\"Iteration {iteration+1}/{n_iterations} - RMSE: {train_rmse:.4f}\")\n",
    "    \n",
    "    return U, V, train_errors"
   ]
  },
  {
   "cell_type": "code",
   "execution_count": 91,
   "metadata": {},
   "outputs": [],
   "source": [
    "def partial_als_matrix_factorization(user_id, R, U, V, n_factors=20, lambda_reg=0.1) -> np.ndarray:\n",
    "    I = np.eye(n_factors)\n",
    "    \n",
    "    rated_items = R[user_id].nonzero()[1]\n",
    "        \n",
    "    ratings = R[user_id, rated_items].toarray()[0]\n",
    "    \n",
    "    V_j = V[rated_items, :]\n",
    "    \n",
    "    U[user_id] = np.linalg.solve(V_j.T @ V_j + lambda_reg * I, V_j.T @ ratings.transpose()).transpose()\n",
    "\n",
    "    train_rmse = calculate_rmse(R, U, V)\n",
    "    print(f\"Train Error: {train_rmse}\")\n",
    "\n",
    "    return U\n"
   ]
  },
  {
   "cell_type": "code",
   "execution_count": 92,
   "metadata": {},
   "outputs": [],
   "source": [
    "def predict(user_id, item_id, U, V, min_rating=1, max_rating=5):\n",
    "    raw_prediction = U[user_id] @ V[item_id].T\n",
    "    range_size = max_rating - min_rating\n",
    "    return min_rating + range_size * (1 / (1 + np.exp(-raw_prediction)))"
   ]
  },
  {
   "cell_type": "code",
   "execution_count": 93,
   "metadata": {},
   "outputs": [],
   "source": [
    "def recommend_items(user_id, U, V, R, top_n=10, exclude_rated=True, min_rating=1, max_rating=5):\n",
    "    predictions = U[user_id] @ V.T\n",
    "    range_size = max_rating - min_rating\n",
    "    predictions = min_rating + range_size * (1 / (1 + np.exp(-predictions)))\n",
    "\n",
    "\n",
    "    # If exclude_rated is True, set the predictions for already rated items to -inf\n",
    "    if exclude_rated:\n",
    "        rated_items = R[user_id].nonzero()[1]\n",
    "        predictions[rated_items] = -np.inf\n",
    "    \n",
    "    # Get top N item indices\n",
    "    top_item_indices = np.argsort(predictions)[::-1][:top_n]\n",
    "    \n",
    "    # Create list of (item_id, predicted_rating) tuples\n",
    "    recommendations = [(item_id, predictions[item_id]) for item_id in top_item_indices]\n",
    "    \n",
    "    return recommendations"
   ]
  },
  {
   "cell_type": "code",
   "execution_count": 110,
   "metadata": {},
   "outputs": [
    {
     "name": "stdout",
     "output_type": "stream",
     "text": [
      "Iteration 1/20 - RMSE: 0.5606\n",
      "Iteration 2/20 - RMSE: 0.2752\n",
      "Iteration 3/20 - RMSE: 0.1895\n",
      "Iteration 4/20 - RMSE: 0.1535\n",
      "Iteration 5/20 - RMSE: 0.1347\n",
      "Iteration 6/20 - RMSE: 0.1234\n",
      "Iteration 7/20 - RMSE: 0.1160\n",
      "Iteration 8/20 - RMSE: 0.1108\n",
      "Iteration 9/20 - RMSE: 0.1070\n",
      "Iteration 10/20 - RMSE: 0.1041\n",
      "Iteration 11/20 - RMSE: 0.1018\n",
      "Iteration 12/20 - RMSE: 0.0999\n",
      "Iteration 13/20 - RMSE: 0.0984\n",
      "Iteration 14/20 - RMSE: 0.0971\n",
      "Iteration 15/20 - RMSE: 0.0959\n",
      "Iteration 16/20 - RMSE: 0.0949\n",
      "Iteration 17/20 - RMSE: 0.0941\n",
      "Iteration 18/20 - RMSE: 0.0933\n",
      "Iteration 19/20 - RMSE: 0.0926\n",
      "Iteration 20/20 - RMSE: 0.0919\n"
     ]
    }
   ],
   "source": [
    "# Train the ALS model\n",
    "n_factors = 100\n",
    "lambda_reg = 1\n",
    "n_iterations = 20\n",
    "\n",
    "# Create a mapping from original user/item IDs to matrix indices\n",
    "user_id_map = {id: i for i, id in enumerate(R_df.index)}\n",
    "item_id_map = {id: i for i, id in enumerate(R_df.columns)}\n",
    "# Reverse mapping for recommendations\n",
    "reverse_item_id_map = {i: id for id, i in item_id_map.items()}\n",
    "\n",
    "# Train the model\n",
    "U, V, train_errors = als_matrix_factorization(R, n_factors, lambda_reg, n_iterations, verbose=True)"
   ]
  },
  {
   "cell_type": "code",
   "execution_count": 111,
   "metadata": {},
   "outputs": [
    {
     "data": {
      "image/png": "[encoded data removed]",
      "text/plain": [
       "<Figure size 1000x600 with 1 Axes>"
      ]
     },
     "metadata": {},
     "output_type": "display_data"
    }
   ],
   "source": [
    "# Plot the training RMSE over iterations\n",
    "plt.figure(figsize=(10, 6))\n",
    "plt.plot(range(1, n_iterations + 1), train_errors, marker='o')\n",
    "plt.xlabel('Iteration')\n",
    "plt.ylabel('RMSE')\n",
    "plt.title('Training RMSE over Iterations')\n",
    "plt.grid(True)\n",
    "plt.show()"
   ]
  },
  {
   "cell_type": "code",
   "execution_count": 112,
   "metadata": {},
   "outputs": [
    {
     "name": "stdout",
     "output_type": "stream",
     "text": [
      "Top 10 item recommendations for user 4:\n",
      "1. Item 302: Predicted rating = 4.97\n",
      "2. Item 270: Predicted rating = 4.95\n",
      "3. Item 326: Predicted rating = 4.94\n",
      "4. Item 990: Predicted rating = 4.94\n",
      "5. Item 309: Predicted rating = 4.94\n",
      "6. Item 889: Predicted rating = 4.94\n",
      "7. Item 205: Predicted rating = 4.93\n",
      "8. Item 904: Predicted rating = 4.93\n",
      "9. Item 748: Predicted rating = 4.93\n",
      "10. Item 872: Predicted rating = 4.93\n"
     ]
    }
   ],
   "source": [
    "# Get original user ID (for example, user #1)\n",
    "original_user_id = 4\n",
    "\n",
    "# Convert to matrix index\n",
    "if original_user_id in user_id_map:\n",
    "    matrix_user_id = user_id_map[original_user_id]\n",
    "    \n",
    "    # Get recommendations\n",
    "    recommendations = recommend_items(matrix_user_id, U, V, R, top_n=10)\n",
    "    \n",
    "    print(f\"Top 10 item recommendations for user {original_user_id}:\")\n",
    "    for i, (item_idx, pred_rating) in enumerate(recommendations):\n",
    "        # Convert matrix index back to original item ID\n",
    "        original_item_id = reverse_item_id_map[item_idx]\n",
    "        print(f\"{i+1}. Item {original_item_id}: Predicted rating = {pred_rating:.2f}\")\n",
    "else:\n",
    "    print(f\"User ID {original_user_id} not found in the dataset\")"
   ]
  },
  {
   "cell_type": "code",
   "execution_count": 113,
   "metadata": {},
   "outputs": [],
   "source": [
    "def add_rating(user_id, item_ids, ratings, R):\n",
    "    user_id = user_id_map[user_id]\n",
    "    item_ids = [item_id_map[item_id] for item_id in item_ids]\n",
    "    for item_id, rating in zip(item_ids, ratings):\n",
    "        R[user_id, item_id] = rating\n",
    "    U_updated= partial_als_matrix_factorization(user_id, R, U, V, n_factors, lambda_reg)\n",
    "    return U_updated\n",
    "\n"
   ]
  },
  {
   "cell_type": "code",
   "execution_count": 114,
   "metadata": {},
   "outputs": [
    {
     "name": "stdout",
     "output_type": "stream",
     "text": [
      "Train Error: 0.09208826316758072\n"
     ]
    },
    {
     "name": "stderr",
     "output_type": "stream",
     "text": [
      "/Users/narly/Code/projects/ALS-RecSys-for-movies/.venv/lib/python3.11/site-packages/scipy/sparse/_index.py:168: SparseEfficiencyWarning: Changing the sparsity structure of a csr_matrix is expensive. lil and dok are more efficient.\n",
      "  self._set_intXint(row, col, x.flat[0])\n"
     ]
    }
   ],
   "source": [
    "U_updated = add_rating(4, [318, 306, 172, 659, 292, 990], [1, 1, 1, 1, 1, 1], R)"
   ]
  },
  {
   "cell_type": "code",
   "execution_count": 115,
   "metadata": {},
   "outputs": [
    {
     "name": "stdout",
     "output_type": "stream",
     "text": [
      "Top 10 item recommendations for user 4:\n",
      "1. Item 205: Predicted rating = 4.97\n",
      "2. Item 423: Predicted rating = 4.95\n",
      "3. Item 347: Predicted rating = 4.95\n",
      "4. Item 302: Predicted rating = 4.94\n",
      "5. Item 73: Predicted rating = 4.94\n",
      "6. Item 1016: Predicted rating = 4.93\n",
      "7. Item 343: Predicted rating = 4.93\n",
      "8. Item 346: Predicted rating = 4.93\n",
      "9. Item 748: Predicted rating = 4.92\n",
      "10. Item 270: Predicted rating = 4.92\n"
     ]
    }
   ],
   "source": [
    "if original_user_id in user_id_map:\n",
    "    matrix_user_id = user_id_map[original_user_id]\n",
    "    \n",
    "    # Get recommendations\n",
    "    recommendations = recommend_items(matrix_user_id, U_updated, V, R, top_n=10)\n",
    "    \n",
    "    print(f\"Top 10 item recommendations for user {original_user_id}:\")\n",
    "    for i, (item_idx, pred_rating) in enumerate(recommendations):\n",
    "        # Convert matrix index back to original item ID\n",
    "        original_item_id = reverse_item_id_map[item_idx]\n",
    "        print(f\"{i+1}. Item {original_item_id}: Predicted rating = {pred_rating:.2f}\")\n",
    "else:\n",
    "    print(f\"User ID {original_user_id} not found in the dataset\")"
   ]
  },
  {
   "cell_type": "code",
   "execution_count": null,
   "metadata": {},
   "outputs": [],
   "source": []
  }
 ],
 "metadata": {
  "kernelspec": {
   "display_name": ".venv",
   "language": "python",
   "name": "python3"
  },
  "language_info": {
   "codemirror_mode": {
    "name": "ipython",
    "version": 3
   },
   "file_extension": ".py",
   "mimetype": "text/x-python",
   "name": "python",
   "nbconvert_exporter": "python",
   "pygments_lexer": "ipython3",
   "version": "3.11.9"
  }
 },
 "nbformat": 4,
 "nbformat_minor": 2
}
