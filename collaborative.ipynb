{
 "cells": [
  {
   "cell_type": "code",
   "execution_count": 1,
   "metadata": {},
   "outputs": [],
   "source": [
    "import numpy as np\n",
    "import pandas as pd\n",
    "from scipy import sparse\n",
    "import matplotlib.pyplot as plt\n",
    "from als_factorization import *\n",
    "from time import time\n",
    "import seaborn as sns\n",
    "%matplotlib inline"
   ]
  },
  {
   "cell_type": "markdown",
   "metadata": {},
   "source": [
    "### Loading and preparing data"
   ]
  },
  {
   "cell_type": "code",
   "execution_count": 2,
   "metadata": {},
   "outputs": [
    {
     "data": {
      "text/html": [
       "<div>\n",
       "<style scoped>\n",
       "    .dataframe tbody tr th:only-of-type {\n",
       "        vertical-align: middle;\n",
       "    }\n",
       "\n",
       "    .dataframe tbody tr th {\n",
       "        vertical-align: top;\n",
       "    }\n",
       "\n",
       "    .dataframe thead th {\n",
       "        text-align: right;\n",
       "    }\n",
       "</style>\n",
       "<table border=\"1\" class=\"dataframe\">\n",
       "  <thead>\n",
       "    <tr style=\"text-align: right;\">\n",
       "      <th></th>\n",
       "      <th>user_id</th>\n",
       "      <th>item_id</th>\n",
       "      <th>rating</th>\n",
       "      <th>timestamp</th>\n",
       "    </tr>\n",
       "  </thead>\n",
       "  <tbody>\n",
       "    <tr>\n",
       "      <th>0</th>\n",
       "      <td>196</td>\n",
       "      <td>242</td>\n",
       "      <td>3</td>\n",
       "      <td>881250949</td>\n",
       "    </tr>\n",
       "    <tr>\n",
       "      <th>1</th>\n",
       "      <td>186</td>\n",
       "      <td>302</td>\n",
       "      <td>3</td>\n",
       "      <td>891717742</td>\n",
       "    </tr>\n",
       "    <tr>\n",
       "      <th>2</th>\n",
       "      <td>22</td>\n",
       "      <td>377</td>\n",
       "      <td>1</td>\n",
       "      <td>878887116</td>\n",
       "    </tr>\n",
       "    <tr>\n",
       "      <th>3</th>\n",
       "      <td>244</td>\n",
       "      <td>51</td>\n",
       "      <td>2</td>\n",
       "      <td>880606923</td>\n",
       "    </tr>\n",
       "    <tr>\n",
       "      <th>4</th>\n",
       "      <td>166</td>\n",
       "      <td>346</td>\n",
       "      <td>1</td>\n",
       "      <td>886397596</td>\n",
       "    </tr>\n",
       "  </tbody>\n",
       "</table>\n",
       "</div>"
      ],
      "text/plain": [
       "   user_id  item_id  rating  timestamp\n",
       "0      196      242       3  881250949\n",
       "1      186      302       3  891717742\n",
       "2       22      377       1  878887116\n",
       "3      244       51       2  880606923\n",
       "4      166      346       1  886397596"
      ]
     },
     "execution_count": 2,
     "metadata": {},
     "output_type": "execute_result"
    }
   ],
   "source": [
    "data = pd.read_csv('datasets/ml-100k/u.data', sep='\\t', header=None)\n",
    "\n",
    "data.columns = ['user_id', 'item_id', 'rating', 'timestamp']\n",
    "R = data.pivot(index='user_id', columns='item_id', values='rating')\n",
    "R = R.fillna(0)\n",
    "R = sparse.csr_matrix(R.values)\n",
    "\n",
    "data.head()"
   ]
  },
  {
   "cell_type": "code",
   "execution_count": 3,
   "metadata": {},
   "outputs": [
    {
     "name": "stdout",
     "output_type": "stream",
     "text": [
      "Train data shape: (80000, 4)\n",
      "Test data shape: (20000, 4)\n"
     ]
    }
   ],
   "source": [
    "from sklearn.model_selection import train_test_split\n",
    "\n",
    "train_data, test_data = train_test_split(data, test_size=0.2, random_state=42)\n",
    "\n",
    "print(f\"Train data shape: {train_data.shape}\")\n",
    "print(f\"Test data shape: {test_data.shape}\")\n"
   ]
  },
  {
   "cell_type": "code",
   "execution_count": 4,
   "metadata": {},
   "outputs": [
    {
     "name": "stdout",
     "output_type": "stream",
     "text": [
      "Training rating matrix shape: (943, 1653)\n",
      "Sparsity: 0.0513\n"
     ]
    }
   ],
   "source": [
    "train_df = train_data.pivot(index='user_id', columns='item_id', values='rating')\n",
    "test_df = test_data.pivot(index='user_id', columns='item_id', values='rating')\n",
    "\n",
    "train_df = train_df.fillna(0)\n",
    "test_df = test_df.fillna(0)\n",
    "\n",
    "R_train = sparse.csr_matrix(train_df.values)\n",
    "R_test = sparse.csr_matrix(test_df.values)\n",
    "\n",
    "print(f\"Training rating matrix shape: {R_train.shape}\")\n",
    "print(f\"Sparsity: {R_train.nnz / (R_train.shape[0] * R_train.shape[1]):.4f}\")"
   ]
  },
  {
   "cell_type": "markdown",
   "metadata": {},
   "source": [
    "### Comparing parallel als factorization with the common one"
   ]
  },
  {
   "cell_type": "code",
   "execution_count": 5,
   "metadata": {},
   "outputs": [
    {
     "name": "stdout",
     "output_type": "stream",
     "text": [
      "Iteration 1/20 - RMSE: 0.5628\n",
      "Iteration 2/20 - RMSE: 0.2580\n",
      "Iteration 3/20 - RMSE: 0.1726\n",
      "Iteration 4/20 - RMSE: 0.1334\n",
      "Iteration 5/20 - RMSE: 0.1104\n",
      "Iteration 6/20 - RMSE: 0.0952\n",
      "Iteration 7/20 - RMSE: 0.0844\n",
      "Iteration 8/20 - RMSE: 0.0761\n",
      "Iteration 9/20 - RMSE: 0.0695\n",
      "Iteration 10/20 - RMSE: 0.0641\n",
      "Iteration 11/20 - RMSE: 0.0597\n",
      "Iteration 12/20 - RMSE: 0.0559\n",
      "Iteration 13/20 - RMSE: 0.0527\n",
      "Iteration 14/20 - RMSE: 0.0499\n",
      "Iteration 15/20 - RMSE: 0.0474\n",
      "Iteration 16/20 - RMSE: 0.0452\n",
      "Iteration 17/20 - RMSE: 0.0433\n",
      "Iteration 18/20 - RMSE: 0.0416\n",
      "Iteration 19/20 - RMSE: 0.0400\n",
      "Iteration 20/20 - RMSE: 0.0385\n",
      "Time taken for common ALS: 9.67 seconds\n",
      "Iteration 1/20 - RMSE: 0.5628 - Time: 0.15s\n",
      "Iteration 2/20 - RMSE: 0.2580 - Time: 0.13s\n",
      "Iteration 3/20 - RMSE: 0.1726 - Time: 0.13s\n",
      "Iteration 4/20 - RMSE: 0.1334 - Time: 0.12s\n",
      "Iteration 5/20 - RMSE: 0.1104 - Time: 0.13s\n",
      "Iteration 6/20 - RMSE: 0.0952 - Time: 0.12s\n",
      "Iteration 7/20 - RMSE: 0.0844 - Time: 0.13s\n",
      "Iteration 8/20 - RMSE: 0.0761 - Time: 0.13s\n",
      "Iteration 9/20 - RMSE: 0.0695 - Time: 0.13s\n",
      "Iteration 10/20 - RMSE: 0.0641 - Time: 0.12s\n",
      "Iteration 11/20 - RMSE: 0.0597 - Time: 0.14s\n",
      "Iteration 12/20 - RMSE: 0.0559 - Time: 0.12s\n",
      "Iteration 13/20 - RMSE: 0.0527 - Time: 0.13s\n",
      "Iteration 14/20 - RMSE: 0.0499 - Time: 0.12s\n",
      "Iteration 15/20 - RMSE: 0.0474 - Time: 0.12s\n",
      "Iteration 16/20 - RMSE: 0.0452 - Time: 0.13s\n",
      "Iteration 17/20 - RMSE: 0.0433 - Time: 0.12s\n",
      "Iteration 18/20 - RMSE: 0.0416 - Time: 0.12s\n",
      "Iteration 19/20 - RMSE: 0.0400 - Time: 0.14s\n",
      "Iteration 20/20 - RMSE: 0.0385 - Time: 0.12s\n",
      "Time taken for parallel ALS: 3.45 seconds\n",
      "Speedup: 2.80x\n"
     ]
    }
   ],
   "source": [
    "from mp_als import *\n",
    "\n",
    "n_factors = 100\n",
    "lambda_reg = 0.1\n",
    "n_iterations = 20\n",
    "\n",
    "time_start = time()\n",
    "U, V, _ = als_matrix_factorization(R, n_factors=n_factors, lambda_reg=lambda_reg, n_iterations=n_iterations, verbose=True)\n",
    "time_taken_common_als = time() - time_start\n",
    "print(f\"Time taken for common ALS: {time_taken_common_als:.2f} seconds\")\n",
    "\n",
    "time_start = time()\n",
    "U, V, _ = als_matrix_factorization_parallel(R, n_factors=n_factors, lambda_reg=lambda_reg, n_iterations=n_iterations, verbose=True)\n",
    "time_taken_parallel_als = time() - time_start\n",
    "print(f\"Time taken for parallel ALS: {time_taken_parallel_als:.2f} seconds\")\n",
    "\n",
    "print(f\"Speedup: {time_taken_common_als / time_taken_parallel_als:.2f}x\")\n"
   ]
  },
  {
   "cell_type": "markdown",
   "metadata": {},
   "source": [
    "### Grid Search Hyperparameters Tuning"
   ]
  },
  {
   "cell_type": "code",
   "execution_count": 6,
   "metadata": {},
   "outputs": [
    {
     "name": "stdout",
     "output_type": "stream",
     "text": [
      "Starting hyperparameter grid search...\n",
      "Training with n_factors=10, lambda_reg=0.01, n_iterations=10\n",
      "Train RMSE: 0.6704, Test RMSE: 1.6623\n",
      "Training with n_factors=10, lambda_reg=0.01, n_iterations=20\n",
      "Train RMSE: 0.6563, Test RMSE: 1.6586\n",
      "Training with n_factors=10, lambda_reg=0.1, n_iterations=10\n",
      "Train RMSE: 0.6654, Test RMSE: 1.6588\n",
      "Training with n_factors=10, lambda_reg=0.1, n_iterations=20\n",
      "Train RMSE: 0.6529, Test RMSE: 1.6578\n",
      "Training with n_factors=10, lambda_reg=1.0, n_iterations=10\n",
      "Train RMSE: 0.6713, Test RMSE: 1.6675\n",
      "Training with n_factors=10, lambda_reg=1.0, n_iterations=20\n",
      "Train RMSE: 0.6649, Test RMSE: 1.6657\n",
      "Training with n_factors=20, lambda_reg=0.01, n_iterations=10\n",
      "Train RMSE: 0.5194, Test RMSE: 1.6482\n",
      "Training with n_factors=20, lambda_reg=0.01, n_iterations=20\n",
      "Train RMSE: 0.4929, Test RMSE: 1.6455\n",
      "Training with n_factors=20, lambda_reg=0.1, n_iterations=10\n",
      "Train RMSE: 0.5075, Test RMSE: 1.6435\n",
      "Training with n_factors=20, lambda_reg=0.1, n_iterations=20\n",
      "Train RMSE: 0.4851, Test RMSE: 1.6389\n",
      "Training with n_factors=20, lambda_reg=1.0, n_iterations=10\n",
      "Train RMSE: 0.5204, Test RMSE: 1.6540\n",
      "Training with n_factors=20, lambda_reg=1.0, n_iterations=20\n",
      "Train RMSE: 0.5044, Test RMSE: 1.6521\n",
      "Training with n_factors=50, lambda_reg=0.01, n_iterations=10\n",
      "Train RMSE: 0.2225, Test RMSE: 1.6197\n",
      "Training with n_factors=50, lambda_reg=0.01, n_iterations=20\n",
      "Train RMSE: 0.1795, Test RMSE: 1.6176\n",
      "Training with n_factors=50, lambda_reg=0.1, n_iterations=10\n",
      "Train RMSE: 0.2113, Test RMSE: 1.6055\n",
      "Training with n_factors=50, lambda_reg=0.1, n_iterations=20\n",
      "Train RMSE: 0.1721, Test RMSE: 1.6000\n",
      "Training with n_factors=50, lambda_reg=1.0, n_iterations=10\n",
      "Train RMSE: 0.2333, Test RMSE: 1.6258\n",
      "Training with n_factors=50, lambda_reg=1.0, n_iterations=20\n",
      "Train RMSE: 0.2054, Test RMSE: 1.6297\n",
      "Training with n_factors=100, lambda_reg=0.01, n_iterations=10\n",
      "Train RMSE: 0.0204, Test RMSE: 1.6165\n",
      "Training with n_factors=100, lambda_reg=0.01, n_iterations=20\n",
      "Train RMSE: 0.0090, Test RMSE: 1.6130\n",
      "Training with n_factors=100, lambda_reg=0.1, n_iterations=10\n",
      "Train RMSE: 0.0286, Test RMSE: 1.5893\n",
      "Training with n_factors=100, lambda_reg=0.1, n_iterations=20\n",
      "Train RMSE: 0.0165, Test RMSE: 1.5802\n",
      "Training with n_factors=100, lambda_reg=1.0, n_iterations=10\n",
      "Train RMSE: 0.0837, Test RMSE: 1.6242\n",
      "Training with n_factors=100, lambda_reg=1.0, n_iterations=20\n",
      "Train RMSE: 0.0809, Test RMSE: 1.6441\n"
     ]
    }
   ],
   "source": [
    "param_grid = {\n",
    "    'n_factors': [10, 20, 50, 100],\n",
    "    'lambda_reg': [0.01, 0.1, 1.0],\n",
    "    'n_iterations': [10, 20]\n",
    "}\n",
    "\n",
    "user_id_map = {id: i for i, id in enumerate(train_df.index)}\n",
    "item_id_map = {id: i for i, id in enumerate(train_df.columns)}\n",
    "reverse_item_id_map = {i: id for id, i in item_id_map.items()}\n",
    "\n",
    "results = []\n",
    "\n",
    "print(\"Starting hyperparameter grid search...\")\n",
    "for n_factors in param_grid['n_factors']:\n",
    "    for lambda_reg in param_grid['lambda_reg']:\n",
    "        for n_iterations in param_grid['n_iterations']:\n",
    "\n",
    "            print(f\"Training with n_factors={n_factors}, lambda_reg={lambda_reg}, n_iterations={n_iterations}\")\n",
    "            U, V, _ = als_matrix_factorization_parallel(R_train, n_factors, lambda_reg, n_iterations, verbose=False)\n",
    "            train_rmse = calculate_rmse(R_train, U, V)\n",
    "            test_rmse = evaluate_rmse(U, V, test_data, user_id_map, item_id_map)\n",
    "            \n",
    "            results.append({\n",
    "                'n_factors': n_factors,\n",
    "                'lambda_reg': lambda_reg,\n",
    "                'n_iterations': n_iterations,\n",
    "                'train_rmse': train_rmse,\n",
    "                'test_rmse': test_rmse\n",
    "            })\n",
    "            \n",
    "            print(f\"Train RMSE: {train_rmse:.4f}, Test RMSE: {test_rmse:.4f}\")"
   ]
  },
  {
   "cell_type": "code",
   "execution_count": 7,
   "metadata": {},
   "outputs": [
    {
     "name": "stdout",
     "output_type": "stream",
     "text": [
      "\n",
      "Best hyperparameters:\n",
      "n_factors: 100.0\n",
      "lambda_reg: 0.1\n",
      "n_iterations: 20.0\n",
      "Test RMSE: 1.5802\n",
      "Train RMSE: 0.0165\n"
     ]
    },
    {
     "data": {
      "image/png": "[encoded data removed]",
      "text/plain": [
       "<Figure size 1500x1000 with 1 Axes>"
      ]
     },
     "metadata": {},
     "output_type": "display_data"
    }
   ],
   "source": [
    "results_df = pd.DataFrame(results)\n",
    "results_df = results_df.sort_values('test_rmse')\n",
    "\n",
    "print(\"\\nBest hyperparameters:\")\n",
    "best_params = results_df.iloc[0]\n",
    "print(f\"n_factors: {best_params['n_factors']}\")\n",
    "print(f\"lambda_reg: {best_params['lambda_reg']}\")\n",
    "print(f\"n_iterations: {best_params['n_iterations']}\")\n",
    "print(f\"Test RMSE: {best_params['test_rmse']:.4f}\")\n",
    "print(f\"Train RMSE: {best_params['train_rmse']:.4f}\")\n",
    "\n",
    "plt.figure(figsize=(15, 10))\n",
    "\n",
    "for lambda_reg in param_grid['lambda_reg']:\n",
    "    subset = results_df[results_df['lambda_reg'] == lambda_reg]\n",
    "    subset = subset[subset['n_iterations'] == param_grid['n_iterations'][-1]]  # Use max iterations\n",
    "    plt.plot(subset['n_factors'], subset['test_rmse'], \n",
    "             marker='o', label=f'lambda_reg={lambda_reg}')\n",
    "\n",
    "plt.xlabel('Number of Factors')\n",
    "plt.ylabel('Test RMSE')\n",
    "plt.title('Impact of Hyperparameters on Model Performance')\n",
    "plt.legend()\n",
    "plt.grid(True)\n",
    "plt.show()\n",
    "\n",
    "best_n_factors = int(best_params['n_factors'])\n",
    "best_lambda_reg = best_params['lambda_reg']\n",
    "best_n_iterations = int(best_params['n_iterations'])"
   ]
  },
  {
   "cell_type": "markdown",
   "metadata": {},
   "source": [
    "### Training best model on the full dataset"
   ]
  },
  {
   "cell_type": "code",
   "execution_count": 8,
   "metadata": {},
   "outputs": [
    {
     "name": "stdout",
     "output_type": "stream",
     "text": [
      "Iteration 1/20 - RMSE: 0.5628 - Time: 0.15s\n",
      "Iteration 2/20 - RMSE: 0.2580 - Time: 0.15s\n",
      "Iteration 3/20 - RMSE: 0.1726 - Time: 0.16s\n",
      "Iteration 4/20 - RMSE: 0.1334 - Time: 0.14s\n",
      "Iteration 5/20 - RMSE: 0.1104 - Time: 0.13s\n",
      "Iteration 6/20 - RMSE: 0.0952 - Time: 0.13s\n",
      "Iteration 7/20 - RMSE: 0.0844 - Time: 0.13s\n",
      "Iteration 8/20 - RMSE: 0.0761 - Time: 0.14s\n",
      "Iteration 9/20 - RMSE: 0.0695 - Time: 0.14s\n",
      "Iteration 10/20 - RMSE: 0.0641 - Time: 0.14s\n",
      "Iteration 11/20 - RMSE: 0.0597 - Time: 0.14s\n",
      "Iteration 12/20 - RMSE: 0.0559 - Time: 0.13s\n",
      "Iteration 13/20 - RMSE: 0.0527 - Time: 0.15s\n",
      "Iteration 14/20 - RMSE: 0.0499 - Time: 0.15s\n",
      "Iteration 15/20 - RMSE: 0.0474 - Time: 0.14s\n",
      "Iteration 16/20 - RMSE: 0.0452 - Time: 0.14s\n",
      "Iteration 17/20 - RMSE: 0.0433 - Time: 0.14s\n",
      "Iteration 18/20 - RMSE: 0.0416 - Time: 0.14s\n",
      "Iteration 19/20 - RMSE: 0.0400 - Time: 0.13s\n",
      "Iteration 20/20 - RMSE: 0.0385 - Time: 0.13s\n"
     ]
    }
   ],
   "source": [
    "U, V, train_errors = als_matrix_factorization_parallel(R, best_n_factors, best_lambda_reg, best_n_iterations, verbose=True)"
   ]
  },
  {
   "cell_type": "code",
   "execution_count": 9,
   "metadata": {},
   "outputs": [
    {
     "name": "stdout",
     "output_type": "stream",
     "text": [
      "Top 10 item recommendations for user 4:\n",
      "1. Item 1017: Predicted rating = 4.98\n",
      "2. Item 90: Predicted rating = 4.96\n",
      "3. Item 900: Predicted rating = 4.96\n",
      "4. Item 83: Predicted rating = 4.95\n",
      "5. Item 873: Predicted rating = 4.95\n",
      "6. Item 297: Predicted rating = 4.94\n",
      "7. Item 484: Predicted rating = 4.94\n",
      "8. Item 431: Predicted rating = 4.94\n",
      "9. Item 1177: Predicted rating = 4.94\n",
      "10. Item 1049: Predicted rating = 4.94\n"
     ]
    }
   ],
   "source": [
    "original_user_id = 4\n",
    "\n",
    "if original_user_id in user_id_map:\n",
    "    matrix_user_id = user_id_map[original_user_id]\n",
    "    \n",
    "    recommendations = recommend_items(matrix_user_id, U, V, R, top_n=10)\n",
    "    \n",
    "    print(f\"Top 10 item recommendations for user {original_user_id}:\")\n",
    "    for i, (item_idx, pred_rating) in enumerate(recommendations):\n",
    "        original_item_id = reverse_item_id_map[item_idx]\n",
    "        print(f\"{i+1}. Item {original_item_id}: Predicted rating = {pred_rating:.2f}\")\n",
    "else:\n",
    "    print(f\"User ID {original_user_id} not found in the dataset\")"
   ]
  },
  {
   "cell_type": "code",
   "execution_count": 10,
   "metadata": {},
   "outputs": [],
   "source": [
    "def add_rating(user_id, item_ids, ratings, R):\n",
    "    user_id = user_id_map[user_id]\n",
    "    item_ids = [item_id_map[item_id] for item_id in item_ids]\n",
    "    for item_id, rating in zip(item_ids, ratings):\n",
    "        R[user_id, item_id] = rating\n",
    "    U_updated, V_updated, _ = als_matrix_factorization_parallel(R, best_n_factors, best_lambda_reg, best_n_iterations, verbose=True)\n",
    "    return U_updated, V_updated"
   ]
  },
  {
   "cell_type": "code",
   "execution_count": 11,
   "metadata": {},
   "outputs": [],
   "source": [
    "def add_rating_optimized(user_id, item_ids, ratings, R):\n",
    "    user_id = user_id_map[user_id]\n",
    "    item_ids = [item_id_map[item_id] for item_id in item_ids]\n",
    "    for item_id, rating in zip(item_ids, ratings):\n",
    "        R[user_id, item_id] = rating\n",
    "    U_updated= partial_als_matrix_factorization(user_id, R, U, V, lambda_reg)\n",
    "    return U_updated"
   ]
  },
  {
   "cell_type": "code",
   "execution_count": 12,
   "metadata": {},
   "outputs": [
    {
     "name": "stderr",
     "output_type": "stream",
     "text": [
      "/Users/narly/Code/projects/ALS-RecSys-for-movies/.venv/lib/python3.11/site-packages/scipy/sparse/_index.py:168: SparseEfficiencyWarning: Changing the sparsity structure of a csr_matrix is expensive. lil and dok are more efficient.\n",
      "  self._set_intXint(row, col, x.flat[0])\n"
     ]
    },
    {
     "name": "stdout",
     "output_type": "stream",
     "text": [
      "Iteration 1/20 - RMSE: 0.5629 - Time: 0.16s\n",
      "Iteration 2/20 - RMSE: 0.2580 - Time: 0.13s\n",
      "Iteration 3/20 - RMSE: 0.1726 - Time: 0.14s\n",
      "Iteration 4/20 - RMSE: 0.1333 - Time: 0.13s\n",
      "Iteration 5/20 - RMSE: 0.1102 - Time: 0.14s\n",
      "Iteration 6/20 - RMSE: 0.0950 - Time: 0.23s\n",
      "Iteration 7/20 - RMSE: 0.0842 - Time: 0.12s\n",
      "Iteration 8/20 - RMSE: 0.0760 - Time: 0.13s\n",
      "Iteration 9/20 - RMSE: 0.0695 - Time: 0.13s\n",
      "Iteration 10/20 - RMSE: 0.0642 - Time: 0.15s\n",
      "Iteration 11/20 - RMSE: 0.0598 - Time: 0.14s\n",
      "Iteration 12/20 - RMSE: 0.0560 - Time: 0.17s\n",
      "Iteration 13/20 - RMSE: 0.0527 - Time: 0.15s\n",
      "Iteration 14/20 - RMSE: 0.0499 - Time: 0.15s\n",
      "Iteration 15/20 - RMSE: 0.0474 - Time: 0.14s\n",
      "Iteration 16/20 - RMSE: 0.0452 - Time: 0.15s\n",
      "Iteration 17/20 - RMSE: 0.0432 - Time: 0.15s\n",
      "Iteration 18/20 - RMSE: 0.0414 - Time: 0.15s\n",
      "Iteration 19/20 - RMSE: 0.0398 - Time: 0.18s\n",
      "Iteration 20/20 - RMSE: 0.0384 - Time: 0.16s\n"
     ]
    }
   ],
   "source": [
    "start_time = time()\n",
    "U_updated, V_updated = add_rating(4, [318, 306, 172, 659, 292, 990], [1, 1, 1, 1, 1, 1], R)\n",
    "time_taken_full_als = time() - start_time"
   ]
  },
  {
   "cell_type": "code",
   "execution_count": 13,
   "metadata": {},
   "outputs": [
    {
     "name": "stdout",
     "output_type": "stream",
     "text": [
      "Train Error: 0.04006392467991662\n"
     ]
    }
   ],
   "source": [
    "\n",
    "start_time = time()\n",
    "U_updated_optimized = add_rating_optimized(4, [318, 306, 172, 659, 292, 990], [1, 1, 1, 1, 1, 1], R)\n",
    "time_taken_optimized_als = time() - start_time\n"
   ]
  },
  {
   "cell_type": "code",
   "execution_count": 14,
   "metadata": {},
   "outputs": [
    {
     "name": "stdout",
     "output_type": "stream",
     "text": [
      "Time taken for full ALS: 3.95 seconds\n",
      "Time taken for optimized ALS: 0.03 seconds\n",
      "Speedup: 5.83x\n"
     ]
    }
   ],
   "source": [
    "print(f\"Time taken for full ALS: {time_taken_full_als:.2f} seconds\")\n",
    "print(f\"Time taken for optimized ALS: {time_taken_optimized_als:.2f} seconds\")\n",
    "print(f\"Speedup: {time_taken_full_als / time_taken_optimized_als / best_n_iterations:.2f}x\")"
   ]
  },
  {
   "cell_type": "code",
   "execution_count": 15,
   "metadata": {},
   "outputs": [
    {
     "data": {
      "text/html": [
       "<div>\n",
       "<style scoped>\n",
       "    .dataframe tbody tr th:only-of-type {\n",
       "        vertical-align: middle;\n",
       "    }\n",
       "\n",
       "    .dataframe tbody tr th {\n",
       "        vertical-align: top;\n",
       "    }\n",
       "\n",
       "    .dataframe thead th {\n",
       "        text-align: right;\n",
       "    }\n",
       "</style>\n",
       "<table border=\"1\" class=\"dataframe\">\n",
       "  <thead>\n",
       "    <tr style=\"text-align: right;\">\n",
       "      <th></th>\n",
       "      <th>Full ALS Movie ID</th>\n",
       "      <th>Full ALS Score</th>\n",
       "      <th>Optimized ALS Movie ID</th>\n",
       "      <th>Optimized ALS Score</th>\n",
       "    </tr>\n",
       "  </thead>\n",
       "  <tbody>\n",
       "    <tr>\n",
       "      <th>0</th>\n",
       "      <td>68</td>\n",
       "      <td>4.974767</td>\n",
       "      <td>693</td>\n",
       "      <td>4.940438</td>\n",
       "    </tr>\n",
       "    <tr>\n",
       "      <th>1</th>\n",
       "      <td>693</td>\n",
       "      <td>4.963706</td>\n",
       "      <td>68</td>\n",
       "      <td>4.937407</td>\n",
       "    </tr>\n",
       "    <tr>\n",
       "      <th>2</th>\n",
       "      <td>1017</td>\n",
       "      <td>4.963471</td>\n",
       "      <td>448</td>\n",
       "      <td>4.922109</td>\n",
       "    </tr>\n",
       "    <tr>\n",
       "      <th>3</th>\n",
       "      <td>13</td>\n",
       "      <td>4.957828</td>\n",
       "      <td>1017</td>\n",
       "      <td>4.920888</td>\n",
       "    </tr>\n",
       "    <tr>\n",
       "      <th>4</th>\n",
       "      <td>514</td>\n",
       "      <td>4.957492</td>\n",
       "      <td>900</td>\n",
       "      <td>4.917601</td>\n",
       "    </tr>\n",
       "    <tr>\n",
       "      <th>5</th>\n",
       "      <td>90</td>\n",
       "      <td>4.952437</td>\n",
       "      <td>83</td>\n",
       "      <td>4.915437</td>\n",
       "    </tr>\n",
       "    <tr>\n",
       "      <th>6</th>\n",
       "      <td>900</td>\n",
       "      <td>4.952161</td>\n",
       "      <td>136</td>\n",
       "      <td>4.890855</td>\n",
       "    </tr>\n",
       "    <tr>\n",
       "      <th>7</th>\n",
       "      <td>129</td>\n",
       "      <td>4.949385</td>\n",
       "      <td>1177</td>\n",
       "      <td>4.888610</td>\n",
       "    </tr>\n",
       "    <tr>\n",
       "      <th>8</th>\n",
       "      <td>297</td>\n",
       "      <td>4.945794</td>\n",
       "      <td>873</td>\n",
       "      <td>4.887021</td>\n",
       "    </tr>\n",
       "    <tr>\n",
       "      <th>9</th>\n",
       "      <td>136</td>\n",
       "      <td>4.945287</td>\n",
       "      <td>8</td>\n",
       "      <td>4.881286</td>\n",
       "    </tr>\n",
       "  </tbody>\n",
       "</table>\n",
       "</div>"
      ],
      "text/plain": [
       "   Full ALS Movie ID  Full ALS Score  Optimized ALS Movie ID  \\\n",
       "0                 68        4.974767                     693   \n",
       "1                693        4.963706                      68   \n",
       "2               1017        4.963471                     448   \n",
       "3                 13        4.957828                    1017   \n",
       "4                514        4.957492                     900   \n",
       "5                 90        4.952437                      83   \n",
       "6                900        4.952161                     136   \n",
       "7                129        4.949385                    1177   \n",
       "8                297        4.945794                     873   \n",
       "9                136        4.945287                       8   \n",
       "\n",
       "   Optimized ALS Score  \n",
       "0             4.940438  \n",
       "1             4.937407  \n",
       "2             4.922109  \n",
       "3             4.920888  \n",
       "4             4.917601  \n",
       "5             4.915437  \n",
       "6             4.890855  \n",
       "7             4.888610  \n",
       "8             4.887021  \n",
       "9             4.881286  "
      ]
     },
     "execution_count": 15,
     "metadata": {},
     "output_type": "execute_result"
    }
   ],
   "source": [
    "import matplotlib.pyplot as plt\n",
    "import numpy as np\n",
    "from matplotlib_venn import venn2\n",
    "\n",
    "def get_recommendations(user_id, U, V, R, top_n=10):\n",
    "    matrix_user_id = user_id_map[user_id]\n",
    "    recs = recommend_items(matrix_user_id, U, V, R, top_n=top_n)\n",
    "    \n",
    "    recommendations = []\n",
    "    for item_idx, pred_rating in recs:\n",
    "        original_item_id = reverse_item_id_map[item_idx]\n",
    "        recommendations.append((original_item_id, pred_rating))\n",
    "    \n",
    "    return recommendations\n",
    "\n",
    "full_als_recs = get_recommendations(original_user_id, U_updated, V, R, top_n=10)\n",
    "optimized_als_recs = get_recommendations(original_user_id, U_updated_optimized, V, R, top_n=10)\n",
    "\n",
    "comparison_df = pd.DataFrame({\n",
    "    'Full ALS Movie ID': [rec[0] for rec in full_als_recs],\n",
    "    'Full ALS Score': [rec[1] for rec in full_als_recs],\n",
    "    'Optimized ALS Movie ID': [rec[0] for rec in optimized_als_recs],\n",
    "    'Optimized ALS Score': [rec[1] for rec in optimized_als_recs]\n",
    "})\n",
    "\n",
    "comparison_df"
   ]
  },
  {
   "cell_type": "markdown",
   "metadata": {},
   "source": [
    "##### Visualize the unique recommendations from each method"
   ]
  },
  {
   "cell_type": "code",
   "execution_count": 16,
   "metadata": {},
   "outputs": [
    {
     "name": "stdout",
     "output_type": "stream",
     "text": [
      "Movies unique to Full ALS recommendations:\n",
      "\n"
     ]
    },
    {
     "data": {
      "text/html": [
       "<div>\n",
       "<style scoped>\n",
       "    .dataframe tbody tr th:only-of-type {\n",
       "        vertical-align: middle;\n",
       "    }\n",
       "\n",
       "    .dataframe tbody tr th {\n",
       "        vertical-align: top;\n",
       "    }\n",
       "\n",
       "    .dataframe thead th {\n",
       "        text-align: right;\n",
       "    }\n",
       "</style>\n",
       "<table border=\"1\" class=\"dataframe\">\n",
       "  <thead>\n",
       "    <tr style=\"text-align: right;\">\n",
       "      <th></th>\n",
       "      <th>Movie ID</th>\n",
       "      <th>Predicted Rating</th>\n",
       "      <th>Rank</th>\n",
       "    </tr>\n",
       "  </thead>\n",
       "  <tbody>\n",
       "    <tr>\n",
       "      <th>3</th>\n",
       "      <td>13</td>\n",
       "      <td>4.957828</td>\n",
       "      <td>4</td>\n",
       "    </tr>\n",
       "    <tr>\n",
       "      <th>1</th>\n",
       "      <td>514</td>\n",
       "      <td>4.957492</td>\n",
       "      <td>5</td>\n",
       "    </tr>\n",
       "    <tr>\n",
       "      <th>4</th>\n",
       "      <td>90</td>\n",
       "      <td>4.952437</td>\n",
       "      <td>6</td>\n",
       "    </tr>\n",
       "    <tr>\n",
       "      <th>0</th>\n",
       "      <td>129</td>\n",
       "      <td>4.949385</td>\n",
       "      <td>8</td>\n",
       "    </tr>\n",
       "    <tr>\n",
       "      <th>2</th>\n",
       "      <td>297</td>\n",
       "      <td>4.945794</td>\n",
       "      <td>9</td>\n",
       "    </tr>\n",
       "  </tbody>\n",
       "</table>\n",
       "</div>"
      ],
      "text/plain": [
       "   Movie ID  Predicted Rating  Rank\n",
       "3        13          4.957828     4\n",
       "1       514          4.957492     5\n",
       "4        90          4.952437     6\n",
       "0       129          4.949385     8\n",
       "2       297          4.945794     9"
      ]
     },
     "metadata": {},
     "output_type": "display_data"
    },
    {
     "name": "stdout",
     "output_type": "stream",
     "text": [
      "\n",
      "Movies unique to Optimized ALS recommendations:\n",
      "\n"
     ]
    },
    {
     "data": {
      "text/html": [
       "<div>\n",
       "<style scoped>\n",
       "    .dataframe tbody tr th:only-of-type {\n",
       "        vertical-align: middle;\n",
       "    }\n",
       "\n",
       "    .dataframe tbody tr th {\n",
       "        vertical-align: top;\n",
       "    }\n",
       "\n",
       "    .dataframe thead th {\n",
       "        text-align: right;\n",
       "    }\n",
       "</style>\n",
       "<table border=\"1\" class=\"dataframe\">\n",
       "  <thead>\n",
       "    <tr style=\"text-align: right;\">\n",
       "      <th></th>\n",
       "      <th>Movie ID</th>\n",
       "      <th>Predicted Rating</th>\n",
       "      <th>Rank</th>\n",
       "    </tr>\n",
       "  </thead>\n",
       "  <tbody>\n",
       "    <tr>\n",
       "      <th>0</th>\n",
       "      <td>448</td>\n",
       "      <td>4.922109</td>\n",
       "      <td>3</td>\n",
       "    </tr>\n",
       "    <tr>\n",
       "      <th>3</th>\n",
       "      <td>83</td>\n",
       "      <td>4.915437</td>\n",
       "      <td>6</td>\n",
       "    </tr>\n",
       "    <tr>\n",
       "      <th>4</th>\n",
       "      <td>1177</td>\n",
       "      <td>4.888610</td>\n",
       "      <td>8</td>\n",
       "    </tr>\n",
       "    <tr>\n",
       "      <th>2</th>\n",
       "      <td>873</td>\n",
       "      <td>4.887021</td>\n",
       "      <td>9</td>\n",
       "    </tr>\n",
       "    <tr>\n",
       "      <th>1</th>\n",
       "      <td>8</td>\n",
       "      <td>4.881286</td>\n",
       "      <td>10</td>\n",
       "    </tr>\n",
       "  </tbody>\n",
       "</table>\n",
       "</div>"
      ],
      "text/plain": [
       "   Movie ID  Predicted Rating  Rank\n",
       "0       448          4.922109     3\n",
       "3        83          4.915437     6\n",
       "4      1177          4.888610     8\n",
       "2       873          4.887021     9\n",
       "1         8          4.881286    10"
      ]
     },
     "metadata": {},
     "output_type": "display_data"
    },
    {
     "data": {
      "image/png": "[encoded data removed]",
      "text/plain": [
       "<Figure size 1000x600 with 1 Axes>"
      ]
     },
     "metadata": {},
     "output_type": "display_data"
    },
    {
     "name": "stdout",
     "output_type": "stream",
     "text": [
      "Jaccard Similarity: 0.33\n",
      "Overlap Coefficient: 0.50\n",
      "Number of common movies in top 10: 5\n"
     ]
    }
   ],
   "source": [
    "\n",
    "full_als_movie_ids = set([rec[0] for rec in full_als_recs])\n",
    "optimized_als_movie_ids = set([rec[0] for rec in optimized_als_recs])\n",
    "common_movies = full_als_movie_ids.intersection(optimized_als_movie_ids)\n",
    "unique_to_full = full_als_movie_ids - optimized_als_movie_ids\n",
    "unique_to_optimized = optimized_als_movie_ids - full_als_movie_ids\n",
    "\n",
    "unique_full_movies = []\n",
    "for movie_id in unique_to_full:\n",
    "    rating = next(rec[1] for rec in full_als_recs if rec[0] == movie_id)\n",
    "    rank = next(i+1 for i, rec in enumerate(full_als_recs) if rec[0] == movie_id)\n",
    "    unique_full_movies.append({\n",
    "        'Movie ID': movie_id,\n",
    "        'Predicted Rating': rating,\n",
    "        'Rank': rank\n",
    "    })\n",
    "\n",
    "unique_optimized_movies = []\n",
    "for movie_id in unique_to_optimized:\n",
    "    rating = next(rec[1] for rec in optimized_als_recs if rec[0] == movie_id)\n",
    "    rank = next(i+1 for i, rec in enumerate(optimized_als_recs) if rec[0] == movie_id)\n",
    "    unique_optimized_movies.append({\n",
    "        'Movie ID': movie_id,\n",
    "        'Predicted Rating': rating,\n",
    "        'Rank': rank\n",
    "    })\n",
    "\n",
    "unique_full_df = pd.DataFrame(unique_full_movies).sort_values('Rank')\n",
    "unique_optimized_df = pd.DataFrame(unique_optimized_movies).sort_values('Rank')\n",
    "\n",
    "print(f\"Movies unique to Full ALS recommendations:\\n\")\n",
    "if len(unique_full_df) > 0:\n",
    "    display(unique_full_df)\n",
    "else:\n",
    "    print(\"None\")\n",
    "    \n",
    "print(f\"\\nMovies unique to Optimized ALS recommendations:\\n\")\n",
    "if len(unique_optimized_df) > 0:\n",
    "    display(unique_optimized_df)\n",
    "else:\n",
    "    print(\"None\")\n",
    "\n",
    "try:\n",
    "    from matplotlib_venn import venn2\n",
    "    plt.figure(figsize=(10, 6))\n",
    "    venn2([full_als_movie_ids, optimized_als_movie_ids], \n",
    "         set_labels=('Full ALS', 'Optimized ALS'))\n",
    "    plt.title('Overlap in Top 10 Recommendations Between Full and Optimized ALS')\n",
    "    plt.show()\n",
    "except ImportError:\n",
    "    print(\"matplotlib-venn not installed. Install with: pip install matplotlib-venn\")\n",
    "\n",
    "jaccard_similarity = len(common_movies) / len(full_als_movie_ids.union(optimized_als_movie_ids))\n",
    "overlap_coefficient = len(common_movies) / min(len(full_als_movie_ids), len(optimized_als_movie_ids))\n",
    "\n",
    "print(f\"Jaccard Similarity: {jaccard_similarity:.2f}\")\n",
    "print(f\"Overlap Coefficient: {overlap_coefficient:.2f}\")\n",
    "print(f\"Number of common movies in top 10: {len(common_movies)}\")"
   ]
  },
  {
   "cell_type": "code",
   "execution_count": null,
   "metadata": {},
   "outputs": [],
   "source": []
  }
 ],
 "metadata": {
  "kernelspec": {
   "display_name": ".venv",
   "language": "python",
   "name": "python3"
  },
  "language_info": {
   "codemirror_mode": {
    "name": "ipython",
    "version": 3
   },
   "file_extension": ".py",
   "mimetype": "text/x-python",
   "name": "python",
   "nbconvert_exporter": "python",
   "pygments_lexer": "ipython3",
   "version": "3.11.9"
  }
 },
 "nbformat": 4,
 "nbformat_minor": 2
}
